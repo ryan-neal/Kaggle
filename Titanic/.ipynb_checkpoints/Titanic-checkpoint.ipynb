{
 "cells": [
  {
   "cell_type": "markdown",
   "metadata": {},
   "source": [
    "## Import libraries"
   ]
  },
  {
   "cell_type": "code",
   "execution_count": 5720,
   "metadata": {},
   "outputs": [],
   "source": [
    "import pandas as pd\n",
    "import xgboost as xgb\n",
    "import seaborn as sns\n",
    "import numpy as np\n",
    "import matplotlib.pyplot as plt\n",
    "from sklearn import metrics\n",
    "from sklearn.preprocessing import LabelEncoder\n",
    "from sklearn.linear_model import LogisticRegression\n",
    "from sklearn.model_selection import GridSearchCV, cross_val_score, StratifiedKFold, learning_curve\n",
    "from sklearn.linear_model import LogisticRegression\n",
    "from sklearn.neighbors import KNeighborsClassifier\n",
    "from sklearn.ensemble import RandomForestClassifier, AdaBoostClassifier, GradientBoostingClassifier, ExtraTreesClassifier, VotingClassifier\n",
    "\n",
    "%matplotlib inline"
   ]
  },
  {
   "cell_type": "markdown",
   "metadata": {},
   "source": [
    "## Functions"
   ]
  },
  {
   "cell_type": "code",
   "execution_count": 5721,
   "metadata": {
    "collapsed": true
   },
   "outputs": [],
   "source": [
    "def survive_prob(data_set, column):\n",
    "    return data_set[[column, 'Survived']].groupby([column], as_index=False).mean().sort_values(by='Survived', ascending=False)"
   ]
  },
  {
   "cell_type": "code",
   "execution_count": 5722,
   "metadata": {
    "collapsed": true
   },
   "outputs": [],
   "source": [
    "def correlation(data1, data2):\n",
    "    return np.corrcoef(data1['Value'].values, data2['Value'].values)"
   ]
  },
  {
   "cell_type": "markdown",
   "metadata": {},
   "source": [
    "## Ingest data"
   ]
  },
  {
   "cell_type": "code",
   "execution_count": 5723,
   "metadata": {
    "collapsed": true
   },
   "outputs": [],
   "source": [
    "train_url = \"http://s3.amazonaws.com/assets.datacamp.com/course/Kaggle/train.csv\"\n",
    "train = pd.read_csv(train_url, index_col = 0)\n",
    "test_url = \"http://s3.amazonaws.com/assets.datacamp.com/course/Kaggle/test.csv\"\n",
    "test = pd.read_csv(test_url, index_col = 0)\n",
    "full_data = pd.concat([train, test])"
   ]
  },
  {
   "cell_type": "markdown",
   "metadata": {},
   "source": [
    "## Explore data"
   ]
  },
  {
   "cell_type": "code",
   "execution_count": 5724,
   "metadata": {},
   "outputs": [
    {
     "data": {
      "text/html": [
       "<div>\n",
       "<table border=\"1\" class=\"dataframe\">\n",
       "  <thead>\n",
       "    <tr style=\"text-align: right;\">\n",
       "      <th></th>\n",
       "      <th>Survived</th>\n",
       "      <th>Pclass</th>\n",
       "      <th>Age</th>\n",
       "      <th>SibSp</th>\n",
       "      <th>Parch</th>\n",
       "      <th>Fare</th>\n",
       "    </tr>\n",
       "  </thead>\n",
       "  <tbody>\n",
       "    <tr>\n",
       "      <th>count</th>\n",
       "      <td>891.000000</td>\n",
       "      <td>891.000000</td>\n",
       "      <td>714.000000</td>\n",
       "      <td>891.000000</td>\n",
       "      <td>891.000000</td>\n",
       "      <td>891.000000</td>\n",
       "    </tr>\n",
       "    <tr>\n",
       "      <th>mean</th>\n",
       "      <td>0.383838</td>\n",
       "      <td>2.308642</td>\n",
       "      <td>29.699118</td>\n",
       "      <td>0.523008</td>\n",
       "      <td>0.381594</td>\n",
       "      <td>32.204208</td>\n",
       "    </tr>\n",
       "    <tr>\n",
       "      <th>std</th>\n",
       "      <td>0.486592</td>\n",
       "      <td>0.836071</td>\n",
       "      <td>14.526497</td>\n",
       "      <td>1.102743</td>\n",
       "      <td>0.806057</td>\n",
       "      <td>49.693429</td>\n",
       "    </tr>\n",
       "    <tr>\n",
       "      <th>min</th>\n",
       "      <td>0.000000</td>\n",
       "      <td>1.000000</td>\n",
       "      <td>0.420000</td>\n",
       "      <td>0.000000</td>\n",
       "      <td>0.000000</td>\n",
       "      <td>0.000000</td>\n",
       "    </tr>\n",
       "    <tr>\n",
       "      <th>25%</th>\n",
       "      <td>0.000000</td>\n",
       "      <td>2.000000</td>\n",
       "      <td>20.125000</td>\n",
       "      <td>0.000000</td>\n",
       "      <td>0.000000</td>\n",
       "      <td>7.910400</td>\n",
       "    </tr>\n",
       "    <tr>\n",
       "      <th>50%</th>\n",
       "      <td>0.000000</td>\n",
       "      <td>3.000000</td>\n",
       "      <td>28.000000</td>\n",
       "      <td>0.000000</td>\n",
       "      <td>0.000000</td>\n",
       "      <td>14.454200</td>\n",
       "    </tr>\n",
       "    <tr>\n",
       "      <th>75%</th>\n",
       "      <td>1.000000</td>\n",
       "      <td>3.000000</td>\n",
       "      <td>38.000000</td>\n",
       "      <td>1.000000</td>\n",
       "      <td>0.000000</td>\n",
       "      <td>31.000000</td>\n",
       "    </tr>\n",
       "    <tr>\n",
       "      <th>max</th>\n",
       "      <td>1.000000</td>\n",
       "      <td>3.000000</td>\n",
       "      <td>80.000000</td>\n",
       "      <td>8.000000</td>\n",
       "      <td>6.000000</td>\n",
       "      <td>512.329200</td>\n",
       "    </tr>\n",
       "  </tbody>\n",
       "</table>\n",
       "</div>"
      ],
      "text/plain": [
       "         Survived      Pclass         Age       SibSp       Parch        Fare\n",
       "count  891.000000  891.000000  714.000000  891.000000  891.000000  891.000000\n",
       "mean     0.383838    2.308642   29.699118    0.523008    0.381594   32.204208\n",
       "std      0.486592    0.836071   14.526497    1.102743    0.806057   49.693429\n",
       "min      0.000000    1.000000    0.420000    0.000000    0.000000    0.000000\n",
       "25%      0.000000    2.000000   20.125000    0.000000    0.000000    7.910400\n",
       "50%      0.000000    3.000000   28.000000    0.000000    0.000000   14.454200\n",
       "75%      1.000000    3.000000   38.000000    1.000000    0.000000   31.000000\n",
       "max      1.000000    3.000000   80.000000    8.000000    6.000000  512.329200"
      ]
     },
     "execution_count": 5724,
     "metadata": {},
     "output_type": "execute_result"
    }
   ],
   "source": [
    "train.describe()"
   ]
  },
  {
   "cell_type": "code",
   "execution_count": 5725,
   "metadata": {},
   "outputs": [
    {
     "data": {
      "text/plain": [
       "(891, 11)"
      ]
     },
     "execution_count": 5725,
     "metadata": {},
     "output_type": "execute_result"
    }
   ],
   "source": [
    "train.shape"
   ]
  },
  {
   "cell_type": "code",
   "execution_count": 5726,
   "metadata": {},
   "outputs": [
    {
     "data": {
      "text/html": [
       "<div>\n",
       "<table border=\"1\" class=\"dataframe\">\n",
       "  <thead>\n",
       "    <tr style=\"text-align: right;\">\n",
       "      <th></th>\n",
       "      <th>Survived</th>\n",
       "      <th>Pclass</th>\n",
       "      <th>Name</th>\n",
       "      <th>Sex</th>\n",
       "      <th>Age</th>\n",
       "      <th>SibSp</th>\n",
       "      <th>Parch</th>\n",
       "      <th>Ticket</th>\n",
       "      <th>Fare</th>\n",
       "      <th>Cabin</th>\n",
       "      <th>Embarked</th>\n",
       "    </tr>\n",
       "    <tr>\n",
       "      <th>PassengerId</th>\n",
       "      <th></th>\n",
       "      <th></th>\n",
       "      <th></th>\n",
       "      <th></th>\n",
       "      <th></th>\n",
       "      <th></th>\n",
       "      <th></th>\n",
       "      <th></th>\n",
       "      <th></th>\n",
       "      <th></th>\n",
       "      <th></th>\n",
       "    </tr>\n",
       "  </thead>\n",
       "  <tbody>\n",
       "    <tr>\n",
       "      <th>1</th>\n",
       "      <td>0</td>\n",
       "      <td>3</td>\n",
       "      <td>Braund, Mr. Owen Harris</td>\n",
       "      <td>male</td>\n",
       "      <td>22.0</td>\n",
       "      <td>1</td>\n",
       "      <td>0</td>\n",
       "      <td>A/5 21171</td>\n",
       "      <td>7.2500</td>\n",
       "      <td>NaN</td>\n",
       "      <td>S</td>\n",
       "    </tr>\n",
       "    <tr>\n",
       "      <th>2</th>\n",
       "      <td>1</td>\n",
       "      <td>1</td>\n",
       "      <td>Cumings, Mrs. John Bradley (Florence Briggs Th...</td>\n",
       "      <td>female</td>\n",
       "      <td>38.0</td>\n",
       "      <td>1</td>\n",
       "      <td>0</td>\n",
       "      <td>PC 17599</td>\n",
       "      <td>71.2833</td>\n",
       "      <td>C85</td>\n",
       "      <td>C</td>\n",
       "    </tr>\n",
       "    <tr>\n",
       "      <th>3</th>\n",
       "      <td>1</td>\n",
       "      <td>3</td>\n",
       "      <td>Heikkinen, Miss. Laina</td>\n",
       "      <td>female</td>\n",
       "      <td>26.0</td>\n",
       "      <td>0</td>\n",
       "      <td>0</td>\n",
       "      <td>STON/O2. 3101282</td>\n",
       "      <td>7.9250</td>\n",
       "      <td>NaN</td>\n",
       "      <td>S</td>\n",
       "    </tr>\n",
       "    <tr>\n",
       "      <th>4</th>\n",
       "      <td>1</td>\n",
       "      <td>1</td>\n",
       "      <td>Futrelle, Mrs. Jacques Heath (Lily May Peel)</td>\n",
       "      <td>female</td>\n",
       "      <td>35.0</td>\n",
       "      <td>1</td>\n",
       "      <td>0</td>\n",
       "      <td>113803</td>\n",
       "      <td>53.1000</td>\n",
       "      <td>C123</td>\n",
       "      <td>S</td>\n",
       "    </tr>\n",
       "    <tr>\n",
       "      <th>5</th>\n",
       "      <td>0</td>\n",
       "      <td>3</td>\n",
       "      <td>Allen, Mr. William Henry</td>\n",
       "      <td>male</td>\n",
       "      <td>35.0</td>\n",
       "      <td>0</td>\n",
       "      <td>0</td>\n",
       "      <td>373450</td>\n",
       "      <td>8.0500</td>\n",
       "      <td>NaN</td>\n",
       "      <td>S</td>\n",
       "    </tr>\n",
       "  </tbody>\n",
       "</table>\n",
       "</div>"
      ],
      "text/plain": [
       "             Survived  Pclass  \\\n",
       "PassengerId                     \n",
       "1                   0       3   \n",
       "2                   1       1   \n",
       "3                   1       3   \n",
       "4                   1       1   \n",
       "5                   0       3   \n",
       "\n",
       "                                                          Name     Sex   Age  \\\n",
       "PassengerId                                                                    \n",
       "1                                      Braund, Mr. Owen Harris    male  22.0   \n",
       "2            Cumings, Mrs. John Bradley (Florence Briggs Th...  female  38.0   \n",
       "3                                       Heikkinen, Miss. Laina  female  26.0   \n",
       "4                 Futrelle, Mrs. Jacques Heath (Lily May Peel)  female  35.0   \n",
       "5                                     Allen, Mr. William Henry    male  35.0   \n",
       "\n",
       "             SibSp  Parch            Ticket     Fare Cabin Embarked  \n",
       "PassengerId                                                          \n",
       "1                1      0         A/5 21171   7.2500   NaN        S  \n",
       "2                1      0          PC 17599  71.2833   C85        C  \n",
       "3                0      0  STON/O2. 3101282   7.9250   NaN        S  \n",
       "4                1      0            113803  53.1000  C123        S  \n",
       "5                0      0            373450   8.0500   NaN        S  "
      ]
     },
     "execution_count": 5726,
     "metadata": {},
     "output_type": "execute_result"
    }
   ],
   "source": [
    "train.head()"
   ]
  },
  {
   "cell_type": "code",
   "execution_count": 5727,
   "metadata": {},
   "outputs": [
    {
     "name": "stdout",
     "output_type": "stream",
     "text": [
      "<class 'pandas.core.frame.DataFrame'>\n",
      "Int64Index: 891 entries, 1 to 891\n",
      "Data columns (total 11 columns):\n",
      "Survived    891 non-null int64\n",
      "Pclass      891 non-null int64\n",
      "Name        891 non-null object\n",
      "Sex         891 non-null object\n",
      "Age         714 non-null float64\n",
      "SibSp       891 non-null int64\n",
      "Parch       891 non-null int64\n",
      "Ticket      891 non-null object\n",
      "Fare        891 non-null float64\n",
      "Cabin       204 non-null object\n",
      "Embarked    889 non-null object\n",
      "dtypes: float64(2), int64(4), object(5)\n",
      "memory usage: 83.5+ KB\n"
     ]
    }
   ],
   "source": [
    "train.info()"
   ]
  },
  {
   "cell_type": "markdown",
   "metadata": {},
   "source": [
    "- 177 missing ages\n",
    "- 2 missing embarks\n",
    "- 615 missing cabins"
   ]
  },
  {
   "cell_type": "markdown",
   "metadata": {},
   "source": [
    "## Thoughts"
   ]
  },
  {
   "cell_type": "markdown",
   "metadata": {},
   "source": [
    "- cabin has many missing values, so we will delete it\n",
    "- will fill ages with median age\n",
    "- for the rest of the features, we will check correlations\n"
   ]
  },
  {
   "cell_type": "markdown",
   "metadata": {},
   "source": [
    "## analyze gender"
   ]
  },
  {
   "cell_type": "code",
   "execution_count": 5728,
   "metadata": {},
   "outputs": [
    {
     "data": {
      "text/plain": [
       "<matplotlib.axes._subplots.AxesSubplot at 0x15d99de80>"
      ]
     },
     "execution_count": 5728,
     "metadata": {},
     "output_type": "execute_result"
    },
    {
     "data": {
      "image/png": "[encoded data removed]",
      "text/plain": [
       "<matplotlib.figure.Figure at 0x15c30f438>"
      ]
     },
     "metadata": {},
     "output_type": "display_data"
    }
   ],
   "source": [
    "sns.barplot(x=\"Sex\", y=\"Survived\", data=train )"
   ]
  },
  {
   "cell_type": "code",
   "execution_count": 5729,
   "metadata": {},
   "outputs": [
    {
     "data": {
      "text/plain": [
       "0    0.616162\n",
       "1    0.383838\n",
       "Name: Survived, dtype: float64"
      ]
     },
     "execution_count": 5729,
     "metadata": {},
     "output_type": "execute_result"
    }
   ],
   "source": [
    "train[\"Survived\"].value_counts(normalize=\"true\")"
   ]
  },
  {
   "cell_type": "code",
   "execution_count": 5730,
   "metadata": {},
   "outputs": [
    {
     "data": {
      "text/plain": [
       "0    468\n",
       "1    109\n",
       "Name: Survived, dtype: int64"
      ]
     },
     "execution_count": 5730,
     "metadata": {},
     "output_type": "execute_result"
    }
   ],
   "source": [
    "train[\"Survived\"][train[\"Sex\"]==\"male\"].value_counts()"
   ]
  },
  {
   "cell_type": "code",
   "execution_count": 5731,
   "metadata": {},
   "outputs": [
    {
     "data": {
      "text/plain": [
       "0    0.811092\n",
       "1    0.188908\n",
       "Name: Survived, dtype: float64"
      ]
     },
     "execution_count": 5731,
     "metadata": {},
     "output_type": "execute_result"
    }
   ],
   "source": [
    "train[\"Survived\"][train[\"Sex\"]==\"male\"].value_counts(normalize=\"true\")"
   ]
  },
  {
   "cell_type": "code",
   "execution_count": 5732,
   "metadata": {},
   "outputs": [
    {
     "data": {
      "text/plain": [
       "1    233\n",
       "0     81\n",
       "Name: Survived, dtype: int64"
      ]
     },
     "execution_count": 5732,
     "metadata": {},
     "output_type": "execute_result"
    }
   ],
   "source": [
    "train[\"Survived\"][train[\"Sex\"]==\"female\"].value_counts()"
   ]
  },
  {
   "cell_type": "code",
   "execution_count": 5733,
   "metadata": {},
   "outputs": [
    {
     "data": {
      "text/plain": [
       "1    0.742038\n",
       "0    0.257962\n",
       "Name: Survived, dtype: float64"
      ]
     },
     "execution_count": 5733,
     "metadata": {},
     "output_type": "execute_result"
    }
   ],
   "source": [
    "train[\"Survived\"][train[\"Sex\"]==\"female\"].value_counts(normalize=\"true\")"
   ]
  },
  {
   "cell_type": "code",
   "execution_count": 5734,
   "metadata": {},
   "outputs": [
    {
     "data": {
      "text/plain": [
       "<matplotlib.axes._subplots.AxesSubplot at 0x15dabda20>"
      ]
     },
     "execution_count": 5734,
     "metadata": {},
     "output_type": "execute_result"
    },
    {
     "data": {
      "image/png": "[encoded data removed]",
      "text/plain": [
       "<matplotlib.figure.Figure at 0x15d5e15c0>"
      ]
     },
     "metadata": {},
     "output_type": "display_data"
    }
   ],
   "source": [
    "sns.barplot(x=\"Pclass\", y=\"Survived\", hue= \"Sex\", data=train )"
   ]
  },
  {
   "cell_type": "markdown",
   "metadata": {},
   "source": [
    "## Thoughts on gender"
   ]
  },
  {
   "cell_type": "markdown",
   "metadata": {},
   "source": [
    "- gender appears valid. We will use this feature\n",
    "- male will equal 0\n",
    "- female will equal 1"
   ]
  },
  {
   "cell_type": "markdown",
   "metadata": {},
   "source": [
    "## analyze age"
   ]
  },
  {
   "cell_type": "code",
   "execution_count": 5735,
   "metadata": {
    "scrolled": false
   },
   "outputs": [
    {
     "data": {
      "text/plain": [
       "<seaborn.axisgrid.FacetGrid at 0x15dbfe7f0>"
      ]
     },
     "execution_count": 5735,
     "metadata": {},
     "output_type": "execute_result"
    },
    {
     "data": {
      "image/png": "[encoded data removed]",
      "text/plain": [
       "<matplotlib.figure.Figure at 0x15dbecf28>"
      ]
     },
     "metadata": {},
     "output_type": "display_data"
    }
   ],
   "source": [
    "age_plots = sns.FacetGrid(train, col='Survived')\n",
    "age_plots.map(plt.hist, 'Age', bins=20)"
   ]
  },
  {
   "cell_type": "markdown",
   "metadata": {},
   "source": [
    "## Create bins for ages"
   ]
  },
  {
   "cell_type": "markdown",
   "metadata": {},
   "source": [
    "- 0 - 5 = 0\n",
    "- 6 - 12 = 1\n",
    "- 13 - 20 = 2\n",
    "- 21 - 35 = 3\n",
    "- 35 - 50 = 4\n",
    "- 51 - 65 = 5\n",
    "- 65+ = 6"
   ]
  },
  {
   "cell_type": "markdown",
   "metadata": {},
   "source": [
    "## analyze fare"
   ]
  },
  {
   "cell_type": "code",
   "execution_count": 5736,
   "metadata": {},
   "outputs": [
    {
     "data": {
      "text/plain": [
       "count    891.000000\n",
       "mean      32.204208\n",
       "std       49.693429\n",
       "min        0.000000\n",
       "25%        7.910400\n",
       "50%       14.454200\n",
       "75%       31.000000\n",
       "max      512.329200\n",
       "Name: Fare, dtype: float64"
      ]
     },
     "execution_count": 5736,
     "metadata": {},
     "output_type": "execute_result"
    }
   ],
   "source": [
    "train.Fare.describe()"
   ]
  },
  {
   "cell_type": "markdown",
   "metadata": {},
   "source": [
    "## Thoughts on fare"
   ]
  },
  {
   "cell_type": "markdown",
   "metadata": {},
   "source": [
    "- cut cells into quartiles"
   ]
  },
  {
   "cell_type": "markdown",
   "metadata": {},
   "source": [
    "## Analyze embarked"
   ]
  },
  {
   "cell_type": "code",
   "execution_count": 5737,
   "metadata": {
    "scrolled": true
   },
   "outputs": [
    {
     "data": {
      "text/plain": [
       "0    0.663043\n",
       "1    0.336957\n",
       "Name: Survived, dtype: float64"
      ]
     },
     "execution_count": 5737,
     "metadata": {},
     "output_type": "execute_result"
    }
   ],
   "source": [
    "train[\"Survived\"][train[\"Embarked\"]==\"S\"].value_counts(normalize = \"True\")"
   ]
  },
  {
   "cell_type": "code",
   "execution_count": 5738,
   "metadata": {},
   "outputs": [
    {
     "data": {
      "text/plain": [
       "1    0.553571\n",
       "0    0.446429\n",
       "Name: Survived, dtype: float64"
      ]
     },
     "execution_count": 5738,
     "metadata": {},
     "output_type": "execute_result"
    }
   ],
   "source": [
    "train[\"Survived\"][train[\"Embarked\"]==\"C\"].value_counts(normalize = \"True\")"
   ]
  },
  {
   "cell_type": "code",
   "execution_count": 5739,
   "metadata": {},
   "outputs": [
    {
     "data": {
      "text/plain": [
       "0    0.61039\n",
       "1    0.38961\n",
       "Name: Survived, dtype: float64"
      ]
     },
     "execution_count": 5739,
     "metadata": {},
     "output_type": "execute_result"
    }
   ],
   "source": [
    "train[\"Survived\"][train[\"Embarked\"]==\"Q\"].value_counts(normalize = \"True\")"
   ]
  },
  {
   "cell_type": "code",
   "execution_count": 5740,
   "metadata": {},
   "outputs": [
    {
     "data": {
      "text/plain": [
       "<matplotlib.axes._subplots.AxesSubplot at 0x15de66550>"
      ]
     },
     "execution_count": 5740,
     "metadata": {},
     "output_type": "execute_result"
    },
    {
     "data": {
      "image/png": "[encoded data removed]",
      "text/plain": [
       "<matplotlib.figure.Figure at 0x15d7e3390>"
      ]
     },
     "metadata": {},
     "output_type": "display_data"
    }
   ],
   "source": [
    "sns.barplot(x=\"Embarked\", y=\"Survived\", hue=\"Pclass\", data=train )"
   ]
  },
  {
   "cell_type": "code",
   "execution_count": 5741,
   "metadata": {},
   "outputs": [
    {
     "data": {
      "text/plain": [
       "<matplotlib.axes._subplots.AxesSubplot at 0x15e0a5908>"
      ]
     },
     "execution_count": 5741,
     "metadata": {},
     "output_type": "execute_result"
    },
    {
     "data": {
      "image/png": "[encoded data removed]",
      "text/plain": [
       "<matplotlib.figure.Figure at 0x15d8d54a8>"
      ]
     },
     "metadata": {},
     "output_type": "display_data"
    }
   ],
   "source": [
    "sns.barplot(x=\"Embarked\", y=\"Survived\", hue=\"Sex\", data=train )"
   ]
  },
  {
   "cell_type": "markdown",
   "metadata": {},
   "source": [
    "## Thoughts on embarked"
   ]
  },
  {
   "cell_type": "markdown",
   "metadata": {},
   "source": [
    "- Patients from Cherbourgh, France had by far the highest survival. This is likely due to the higher proportion of 1st class passengers\n",
    "- Queenstown, Ireland and Southampton, England were close"
   ]
  },
  {
   "cell_type": "code",
   "execution_count": 5742,
   "metadata": {},
   "outputs": [
    {
     "data": {
      "text/plain": [
       "<matplotlib.axes._subplots.AxesSubplot at 0x15e0c6630>"
      ]
     },
     "execution_count": 5742,
     "metadata": {},
     "output_type": "execute_result"
    },
    {
     "data": {
      "image/png": "[encoded data removed]",
      "text/plain": [
       "<matplotlib.figure.Figure at 0x15dc9fe48>"
      ]
     },
     "metadata": {},
     "output_type": "display_data"
    }
   ],
   "source": [
    "sns.barplot(x=\"SibSp\", y=\"Survived\", data=train )"
   ]
  },
  {
   "cell_type": "code",
   "execution_count": 5743,
   "metadata": {},
   "outputs": [
    {
     "data": {
      "text/plain": [
       "<matplotlib.axes._subplots.AxesSubplot at 0x15e17b9b0>"
      ]
     },
     "execution_count": 5743,
     "metadata": {},
     "output_type": "execute_result"
    },
    {
     "data": {
      "image/png": "[encoded data removed]",
      "text/plain": [
       "<matplotlib.figure.Figure at 0x15e035e10>"
      ]
     },
     "metadata": {},
     "output_type": "display_data"
    }
   ],
   "source": [
    "sns.barplot(x=\"Parch\", y=\"Survived\", data=train )"
   ]
  },
  {
   "cell_type": "code",
   "execution_count": 5744,
   "metadata": {},
   "outputs": [
    {
     "data": {
      "text/html": [
       "<div>\n",
       "<table border=\"1\" class=\"dataframe\">\n",
       "  <thead>\n",
       "    <tr style=\"text-align: right;\">\n",
       "      <th></th>\n",
       "      <th>Survived</th>\n",
       "      <th>Pclass</th>\n",
       "      <th>Name</th>\n",
       "      <th>Sex</th>\n",
       "      <th>Age</th>\n",
       "      <th>SibSp</th>\n",
       "      <th>Parch</th>\n",
       "      <th>Ticket</th>\n",
       "      <th>Fare</th>\n",
       "      <th>Cabin</th>\n",
       "      <th>Embarked</th>\n",
       "    </tr>\n",
       "    <tr>\n",
       "      <th>PassengerId</th>\n",
       "      <th></th>\n",
       "      <th></th>\n",
       "      <th></th>\n",
       "      <th></th>\n",
       "      <th></th>\n",
       "      <th></th>\n",
       "      <th></th>\n",
       "      <th></th>\n",
       "      <th></th>\n",
       "      <th></th>\n",
       "      <th></th>\n",
       "    </tr>\n",
       "  </thead>\n",
       "  <tbody>\n",
       "    <tr>\n",
       "      <th>1</th>\n",
       "      <td>0</td>\n",
       "      <td>3</td>\n",
       "      <td>Braund, Mr. Owen Harris</td>\n",
       "      <td>male</td>\n",
       "      <td>22.0</td>\n",
       "      <td>1</td>\n",
       "      <td>0</td>\n",
       "      <td>A/5 21171</td>\n",
       "      <td>7.2500</td>\n",
       "      <td>NaN</td>\n",
       "      <td>S</td>\n",
       "    </tr>\n",
       "    <tr>\n",
       "      <th>2</th>\n",
       "      <td>1</td>\n",
       "      <td>1</td>\n",
       "      <td>Cumings, Mrs. John Bradley (Florence Briggs Th...</td>\n",
       "      <td>female</td>\n",
       "      <td>38.0</td>\n",
       "      <td>1</td>\n",
       "      <td>0</td>\n",
       "      <td>PC 17599</td>\n",
       "      <td>71.2833</td>\n",
       "      <td>C85</td>\n",
       "      <td>C</td>\n",
       "    </tr>\n",
       "    <tr>\n",
       "      <th>3</th>\n",
       "      <td>1</td>\n",
       "      <td>3</td>\n",
       "      <td>Heikkinen, Miss. Laina</td>\n",
       "      <td>female</td>\n",
       "      <td>26.0</td>\n",
       "      <td>0</td>\n",
       "      <td>0</td>\n",
       "      <td>STON/O2. 3101282</td>\n",
       "      <td>7.9250</td>\n",
       "      <td>NaN</td>\n",
       "      <td>S</td>\n",
       "    </tr>\n",
       "    <tr>\n",
       "      <th>4</th>\n",
       "      <td>1</td>\n",
       "      <td>1</td>\n",
       "      <td>Futrelle, Mrs. Jacques Heath (Lily May Peel)</td>\n",
       "      <td>female</td>\n",
       "      <td>35.0</td>\n",
       "      <td>1</td>\n",
       "      <td>0</td>\n",
       "      <td>113803</td>\n",
       "      <td>53.1000</td>\n",
       "      <td>C123</td>\n",
       "      <td>S</td>\n",
       "    </tr>\n",
       "    <tr>\n",
       "      <th>5</th>\n",
       "      <td>0</td>\n",
       "      <td>3</td>\n",
       "      <td>Allen, Mr. William Henry</td>\n",
       "      <td>male</td>\n",
       "      <td>35.0</td>\n",
       "      <td>0</td>\n",
       "      <td>0</td>\n",
       "      <td>373450</td>\n",
       "      <td>8.0500</td>\n",
       "      <td>NaN</td>\n",
       "      <td>S</td>\n",
       "    </tr>\n",
       "  </tbody>\n",
       "</table>\n",
       "</div>"
      ],
      "text/plain": [
       "             Survived  Pclass  \\\n",
       "PassengerId                     \n",
       "1                   0       3   \n",
       "2                   1       1   \n",
       "3                   1       3   \n",
       "4                   1       1   \n",
       "5                   0       3   \n",
       "\n",
       "                                                          Name     Sex   Age  \\\n",
       "PassengerId                                                                    \n",
       "1                                      Braund, Mr. Owen Harris    male  22.0   \n",
       "2            Cumings, Mrs. John Bradley (Florence Briggs Th...  female  38.0   \n",
       "3                                       Heikkinen, Miss. Laina  female  26.0   \n",
       "4                 Futrelle, Mrs. Jacques Heath (Lily May Peel)  female  35.0   \n",
       "5                                     Allen, Mr. William Henry    male  35.0   \n",
       "\n",
       "             SibSp  Parch            Ticket     Fare Cabin Embarked  \n",
       "PassengerId                                                          \n",
       "1                1      0         A/5 21171   7.2500   NaN        S  \n",
       "2                1      0          PC 17599  71.2833   C85        C  \n",
       "3                0      0  STON/O2. 3101282   7.9250   NaN        S  \n",
       "4                1      0            113803  53.1000  C123        S  \n",
       "5                0      0            373450   8.0500   NaN        S  "
      ]
     },
     "execution_count": 5744,
     "metadata": {},
     "output_type": "execute_result"
    }
   ],
   "source": [
    "train.head()"
   ]
  },
  {
   "cell_type": "markdown",
   "metadata": {},
   "source": [
    "## Functions for transforming data"
   ]
  },
  {
   "cell_type": "code",
   "execution_count": 5745,
   "metadata": {},
   "outputs": [
    {
     "data": {
      "text/html": [
       "<div>\n",
       "<table border=\"1\" class=\"dataframe\">\n",
       "  <thead>\n",
       "    <tr style=\"text-align: right;\">\n",
       "      <th></th>\n",
       "      <th>Survived</th>\n",
       "      <th>Pclass</th>\n",
       "      <th>Name</th>\n",
       "      <th>Sex</th>\n",
       "      <th>Age</th>\n",
       "      <th>SibSp</th>\n",
       "      <th>Parch</th>\n",
       "      <th>Ticket</th>\n",
       "      <th>Fare</th>\n",
       "      <th>Cabin</th>\n",
       "      <th>Embarked</th>\n",
       "    </tr>\n",
       "    <tr>\n",
       "      <th>PassengerId</th>\n",
       "      <th></th>\n",
       "      <th></th>\n",
       "      <th></th>\n",
       "      <th></th>\n",
       "      <th></th>\n",
       "      <th></th>\n",
       "      <th></th>\n",
       "      <th></th>\n",
       "      <th></th>\n",
       "      <th></th>\n",
       "      <th></th>\n",
       "    </tr>\n",
       "  </thead>\n",
       "  <tbody>\n",
       "    <tr>\n",
       "      <th>1</th>\n",
       "      <td>0</td>\n",
       "      <td>3</td>\n",
       "      <td>Braund, Mr. Owen Harris</td>\n",
       "      <td>male</td>\n",
       "      <td>22.0</td>\n",
       "      <td>1</td>\n",
       "      <td>0</td>\n",
       "      <td>A/5 21171</td>\n",
       "      <td>7.2500</td>\n",
       "      <td>NaN</td>\n",
       "      <td>S</td>\n",
       "    </tr>\n",
       "    <tr>\n",
       "      <th>2</th>\n",
       "      <td>1</td>\n",
       "      <td>1</td>\n",
       "      <td>Cumings, Mrs. John Bradley (Florence Briggs Th...</td>\n",
       "      <td>female</td>\n",
       "      <td>38.0</td>\n",
       "      <td>1</td>\n",
       "      <td>0</td>\n",
       "      <td>PC 17599</td>\n",
       "      <td>71.2833</td>\n",
       "      <td>C85</td>\n",
       "      <td>C</td>\n",
       "    </tr>\n",
       "    <tr>\n",
       "      <th>3</th>\n",
       "      <td>1</td>\n",
       "      <td>3</td>\n",
       "      <td>Heikkinen, Miss. Laina</td>\n",
       "      <td>female</td>\n",
       "      <td>26.0</td>\n",
       "      <td>0</td>\n",
       "      <td>0</td>\n",
       "      <td>STON/O2. 3101282</td>\n",
       "      <td>7.9250</td>\n",
       "      <td>NaN</td>\n",
       "      <td>S</td>\n",
       "    </tr>\n",
       "    <tr>\n",
       "      <th>4</th>\n",
       "      <td>1</td>\n",
       "      <td>1</td>\n",
       "      <td>Futrelle, Mrs. Jacques Heath (Lily May Peel)</td>\n",
       "      <td>female</td>\n",
       "      <td>35.0</td>\n",
       "      <td>1</td>\n",
       "      <td>0</td>\n",
       "      <td>113803</td>\n",
       "      <td>53.1000</td>\n",
       "      <td>C123</td>\n",
       "      <td>S</td>\n",
       "    </tr>\n",
       "    <tr>\n",
       "      <th>5</th>\n",
       "      <td>0</td>\n",
       "      <td>3</td>\n",
       "      <td>Allen, Mr. William Henry</td>\n",
       "      <td>male</td>\n",
       "      <td>35.0</td>\n",
       "      <td>0</td>\n",
       "      <td>0</td>\n",
       "      <td>373450</td>\n",
       "      <td>8.0500</td>\n",
       "      <td>NaN</td>\n",
       "      <td>S</td>\n",
       "    </tr>\n",
       "  </tbody>\n",
       "</table>\n",
       "</div>"
      ],
      "text/plain": [
       "             Survived  Pclass  \\\n",
       "PassengerId                     \n",
       "1                   0       3   \n",
       "2                   1       1   \n",
       "3                   1       3   \n",
       "4                   1       1   \n",
       "5                   0       3   \n",
       "\n",
       "                                                          Name     Sex   Age  \\\n",
       "PassengerId                                                                    \n",
       "1                                      Braund, Mr. Owen Harris    male  22.0   \n",
       "2            Cumings, Mrs. John Bradley (Florence Briggs Th...  female  38.0   \n",
       "3                                       Heikkinen, Miss. Laina  female  26.0   \n",
       "4                 Futrelle, Mrs. Jacques Heath (Lily May Peel)  female  35.0   \n",
       "5                                     Allen, Mr. William Henry    male  35.0   \n",
       "\n",
       "             SibSp  Parch            Ticket     Fare Cabin Embarked  \n",
       "PassengerId                                                          \n",
       "1                1      0         A/5 21171   7.2500   NaN        S  \n",
       "2                1      0          PC 17599  71.2833   C85        C  \n",
       "3                0      0  STON/O2. 3101282   7.9250   NaN        S  \n",
       "4                1      0            113803  53.1000  C123        S  \n",
       "5                0      0            373450   8.0500   NaN        S  "
      ]
     },
     "execution_count": 5745,
     "metadata": {},
     "output_type": "execute_result"
    }
   ],
   "source": [
    "train.head()"
   ]
  },
  {
   "cell_type": "code",
   "execution_count": 5746,
   "metadata": {
    "collapsed": true
   },
   "outputs": [],
   "source": [
    "#transform sex\n",
    "def transform_sex(data):\n",
    "    data.Sex = data.Sex.map({\"female\":1, \"male\":0}).astype(int)\n",
    "    return data"
   ]
  },
  {
   "cell_type": "code",
   "execution_count": 5747,
   "metadata": {
    "collapsed": true
   },
   "outputs": [],
   "source": [
    "#transform age\n",
    "def transform_age(data):\n",
    "    data.Age = data.Age.fillna(-1)\n",
    "    bins = [-2, 0, 5, 12, 20, 35, 50, 65, 120]\n",
    "    group_names = [-1, 0, 1, 2, 3, 4, 5, 6]\n",
    "    data.Age = pd.cut(data.Age, bins, labels=group_names)\n",
    "    data.Age = data.Age.astype(int)\n",
    "    return data"
   ]
  },
  {
   "cell_type": "code",
   "execution_count": 5748,
   "metadata": {
    "collapsed": true
   },
   "outputs": [],
   "source": [
    "def create_family_size(data):\n",
    "    data[\"Family_Size\"] = data.SibSp + data.Parch + 1\n",
    "    return data"
   ]
  },
  {
   "cell_type": "code",
   "execution_count": 5749,
   "metadata": {},
   "outputs": [
    {
     "data": {
      "text/html": [
       "<div>\n",
       "<table border=\"1\" class=\"dataframe\">\n",
       "  <thead>\n",
       "    <tr style=\"text-align: right;\">\n",
       "      <th></th>\n",
       "      <th>Survived</th>\n",
       "      <th>Pclass</th>\n",
       "      <th>Name</th>\n",
       "      <th>Sex</th>\n",
       "      <th>Age</th>\n",
       "      <th>SibSp</th>\n",
       "      <th>Parch</th>\n",
       "      <th>Ticket</th>\n",
       "      <th>Fare</th>\n",
       "      <th>Cabin</th>\n",
       "      <th>Embarked</th>\n",
       "    </tr>\n",
       "    <tr>\n",
       "      <th>PassengerId</th>\n",
       "      <th></th>\n",
       "      <th></th>\n",
       "      <th></th>\n",
       "      <th></th>\n",
       "      <th></th>\n",
       "      <th></th>\n",
       "      <th></th>\n",
       "      <th></th>\n",
       "      <th></th>\n",
       "      <th></th>\n",
       "      <th></th>\n",
       "    </tr>\n",
       "  </thead>\n",
       "  <tbody>\n",
       "    <tr>\n",
       "      <th>1</th>\n",
       "      <td>0</td>\n",
       "      <td>3</td>\n",
       "      <td>Braund, Mr. Owen Harris</td>\n",
       "      <td>male</td>\n",
       "      <td>22.0</td>\n",
       "      <td>1</td>\n",
       "      <td>0</td>\n",
       "      <td>A/5 21171</td>\n",
       "      <td>7.2500</td>\n",
       "      <td>NaN</td>\n",
       "      <td>S</td>\n",
       "    </tr>\n",
       "    <tr>\n",
       "      <th>2</th>\n",
       "      <td>1</td>\n",
       "      <td>1</td>\n",
       "      <td>Cumings, Mrs. John Bradley (Florence Briggs Th...</td>\n",
       "      <td>female</td>\n",
       "      <td>38.0</td>\n",
       "      <td>1</td>\n",
       "      <td>0</td>\n",
       "      <td>PC 17599</td>\n",
       "      <td>71.2833</td>\n",
       "      <td>C85</td>\n",
       "      <td>C</td>\n",
       "    </tr>\n",
       "    <tr>\n",
       "      <th>3</th>\n",
       "      <td>1</td>\n",
       "      <td>3</td>\n",
       "      <td>Heikkinen, Miss. Laina</td>\n",
       "      <td>female</td>\n",
       "      <td>26.0</td>\n",
       "      <td>0</td>\n",
       "      <td>0</td>\n",
       "      <td>STON/O2. 3101282</td>\n",
       "      <td>7.9250</td>\n",
       "      <td>NaN</td>\n",
       "      <td>S</td>\n",
       "    </tr>\n",
       "    <tr>\n",
       "      <th>4</th>\n",
       "      <td>1</td>\n",
       "      <td>1</td>\n",
       "      <td>Futrelle, Mrs. Jacques Heath (Lily May Peel)</td>\n",
       "      <td>female</td>\n",
       "      <td>35.0</td>\n",
       "      <td>1</td>\n",
       "      <td>0</td>\n",
       "      <td>113803</td>\n",
       "      <td>53.1000</td>\n",
       "      <td>C123</td>\n",
       "      <td>S</td>\n",
       "    </tr>\n",
       "    <tr>\n",
       "      <th>5</th>\n",
       "      <td>0</td>\n",
       "      <td>3</td>\n",
       "      <td>Allen, Mr. William Henry</td>\n",
       "      <td>male</td>\n",
       "      <td>35.0</td>\n",
       "      <td>0</td>\n",
       "      <td>0</td>\n",
       "      <td>373450</td>\n",
       "      <td>8.0500</td>\n",
       "      <td>NaN</td>\n",
       "      <td>S</td>\n",
       "    </tr>\n",
       "  </tbody>\n",
       "</table>\n",
       "</div>"
      ],
      "text/plain": [
       "             Survived  Pclass  \\\n",
       "PassengerId                     \n",
       "1                   0       3   \n",
       "2                   1       1   \n",
       "3                   1       3   \n",
       "4                   1       1   \n",
       "5                   0       3   \n",
       "\n",
       "                                                          Name     Sex   Age  \\\n",
       "PassengerId                                                                    \n",
       "1                                      Braund, Mr. Owen Harris    male  22.0   \n",
       "2            Cumings, Mrs. John Bradley (Florence Briggs Th...  female  38.0   \n",
       "3                                       Heikkinen, Miss. Laina  female  26.0   \n",
       "4                 Futrelle, Mrs. Jacques Heath (Lily May Peel)  female  35.0   \n",
       "5                                     Allen, Mr. William Henry    male  35.0   \n",
       "\n",
       "             SibSp  Parch            Ticket     Fare Cabin Embarked  \n",
       "PassengerId                                                          \n",
       "1                1      0         A/5 21171   7.2500   NaN        S  \n",
       "2                1      0          PC 17599  71.2833   C85        C  \n",
       "3                0      0  STON/O2. 3101282   7.9250   NaN        S  \n",
       "4                1      0            113803  53.1000  C123        S  \n",
       "5                0      0            373450   8.0500   NaN        S  "
      ]
     },
     "execution_count": 5749,
     "metadata": {},
     "output_type": "execute_result"
    }
   ],
   "source": [
    "train.head()"
   ]
  },
  {
   "cell_type": "code",
   "execution_count": 5750,
   "metadata": {},
   "outputs": [],
   "source": [
    "def transform_cabin(data):\n",
    "    data[\"Cabin\"] = pd.Series([i[0] if not pd.isnull(i) else 'X' for i in data['Cabin'] ])\n",
    "    data = pd.get_dummies(data, columns = [\"Cabin\"],prefix=\"Cabin\")\n",
    "    return data"
   ]
  },
  {
   "cell_type": "code",
   "execution_count": 5751,
   "metadata": {
    "collapsed": true
   },
   "outputs": [],
   "source": [
    "def is_solo(data):\n",
    "    data[\"Is_Solo\"] = float('NaN')\n",
    "    data.Is_Solo = data.Is_Solo[data.Family_Size == 1] = 1\n",
    "    data.Is_Solo = data[\"Is_Solo\"][data.Family_Size > 1] = 0\n",
    "    return data"
   ]
  },
  {
   "cell_type": "code",
   "execution_count": 5752,
   "metadata": {},
   "outputs": [],
   "source": [
    "#transform fare\n",
    "def transform_fare(data):\n",
    "    numbers = [0, 1, 2, 3]\n",
    "    bins = [-1, 7.91,14.454, 31, 513]\n",
    "    data.Fare = pd.cut(data.Fare, bins, labels = numbers)\n",
    "    data.Fare = data.Fare.astype(int)\n",
    "    return data"
   ]
  },
  {
   "cell_type": "code",
   "execution_count": 5753,
   "metadata": {
    "collapsed": true
   },
   "outputs": [],
   "source": [
    "#transform family size\n",
    "def transform_family(data):\n",
    "    numbers = [0, 1, 2, 3, 4]\n",
    "    bins = [-1, 1, 2, 3, 4, 100]\n",
    "    data.Family_Size = pd.cut(data.Family_Size, bins, labels = numbers)\n",
    "    data.Family_Size = data.Family_Size.astype(int)\n",
    "    return data"
   ]
  },
  {
   "cell_type": "code",
   "execution_count": 5754,
   "metadata": {
    "collapsed": true
   },
   "outputs": [],
   "source": [
    "def transform_embarked(data):\n",
    "    data.Embarked.fillna(\"S\", inplace = \"True\")\n",
    "    data.Embarked = data.Embarked.map({\"S\":0, \"C\":1, \"Q\":2}).astype(int)\n",
    "    return data"
   ]
  },
  {
   "cell_type": "code",
   "execution_count": 5755,
   "metadata": {
    "collapsed": true
   },
   "outputs": [],
   "source": [
    "def create_title(data):\n",
    "    data[\"Title\"] = data.Name.apply(lambda x: x.split(' ')[1])\n",
    "    return data"
   ]
  },
  {
   "cell_type": "code",
   "execution_count": 5756,
   "metadata": {
    "collapsed": true
   },
   "outputs": [],
   "source": [
    "def convert_titles(data):\n",
    "    Title_Dictionary = {\n",
    "                    \"Mme.\":        int(3),\n",
    "                    \"Mlle.\":       int(4),\n",
    "                    \"Ms.\":         int(3),\n",
    "                    \"Mr.\" :        int(1),\n",
    "                    \"Mrs.\" :       int(3),\n",
    "                    \"Miss.\" :      int(4),\n",
    "                    \"Master.\" :    int(2),\n",
    "                    }\n",
    "\n",
    "    data.Title = data.Title.map(Title_Dictionary)    \n",
    "    data.Title.fillna(0, inplace=\"true\")\n",
    "    return data\n"
   ]
  },
  {
   "cell_type": "code",
   "execution_count": 5757,
   "metadata": {
    "collapsed": true
   },
   "outputs": [],
   "source": [
    "def drop_features(data):\n",
    "    return data.drop(['Ticket', 'Name', 'Cabin'], axis=1)"
   ]
  },
  {
   "cell_type": "code",
   "execution_count": 5758,
   "metadata": {
    "collapsed": true
   },
   "outputs": [],
   "source": [
    "def transform_data(data):\n",
    "    new_data = data.copy()\n",
    "    new_data = transform_sex(new_data)\n",
    "    new_data = transform_age(new_data)\n",
    "    new_data = transform_fare(new_data)\n",
    "    new_data = create_family_size(new_data)\n",
    "    new_data = transform_family(new_data)\n",
    "    new_data = transform_embarked(new_data)\n",
    "    new_data = create_title(new_data)\n",
    "    new_data = convert_titles(new_data)\n",
    "    new_data = drop_features(new_data)\n",
    "    #new_data = transform_cabin(new_data)\n",
    "    #new_data = is_solo(new_data)\n",
    "    return new_data"
   ]
  },
  {
   "cell_type": "markdown",
   "metadata": {},
   "source": [
    "## Transform full data"
   ]
  },
  {
   "cell_type": "code",
   "execution_count": 5759,
   "metadata": {},
   "outputs": [],
   "source": [
    "the_X = transform_data(train)"
   ]
  },
  {
   "cell_type": "code",
   "execution_count": 5760,
   "metadata": {
    "scrolled": true
   },
   "outputs": [
    {
     "name": "stdout",
     "output_type": "stream",
     "text": [
      "<class 'pandas.core.frame.DataFrame'>\n",
      "Int64Index: 891 entries, 1 to 891\n",
      "Data columns (total 10 columns):\n",
      "Survived       891 non-null int64\n",
      "Pclass         891 non-null int64\n",
      "Sex            891 non-null int64\n",
      "Age            891 non-null int64\n",
      "SibSp          891 non-null int64\n",
      "Parch          891 non-null int64\n",
      "Fare           891 non-null int64\n",
      "Embarked       891 non-null int64\n",
      "Family_Size    891 non-null int64\n",
      "Title          891 non-null float64\n",
      "dtypes: float64(1), int64(9)\n",
      "memory usage: 76.6 KB\n"
     ]
    }
   ],
   "source": [
    "the_X.info()"
   ]
  },
  {
   "cell_type": "code",
   "execution_count": 5761,
   "metadata": {
    "collapsed": true
   },
   "outputs": [],
   "source": [
    "the_y = train.Survived"
   ]
  },
  {
   "cell_type": "code",
   "execution_count": 5762,
   "metadata": {
    "scrolled": true
   },
   "outputs": [
    {
     "data": {
      "text/html": [
       "<div>\n",
       "<table border=\"1\" class=\"dataframe\">\n",
       "  <thead>\n",
       "    <tr style=\"text-align: right;\">\n",
       "      <th></th>\n",
       "      <th>Survived</th>\n",
       "      <th>Pclass</th>\n",
       "      <th>Sex</th>\n",
       "      <th>Age</th>\n",
       "      <th>SibSp</th>\n",
       "      <th>Parch</th>\n",
       "      <th>Fare</th>\n",
       "      <th>Embarked</th>\n",
       "      <th>Family_Size</th>\n",
       "      <th>Title</th>\n",
       "    </tr>\n",
       "    <tr>\n",
       "      <th>PassengerId</th>\n",
       "      <th></th>\n",
       "      <th></th>\n",
       "      <th></th>\n",
       "      <th></th>\n",
       "      <th></th>\n",
       "      <th></th>\n",
       "      <th></th>\n",
       "      <th></th>\n",
       "      <th></th>\n",
       "      <th></th>\n",
       "    </tr>\n",
       "  </thead>\n",
       "  <tbody>\n",
       "    <tr>\n",
       "      <th>1</th>\n",
       "      <td>0</td>\n",
       "      <td>3</td>\n",
       "      <td>0</td>\n",
       "      <td>3</td>\n",
       "      <td>1</td>\n",
       "      <td>0</td>\n",
       "      <td>0</td>\n",
       "      <td>0</td>\n",
       "      <td>1</td>\n",
       "      <td>1.0</td>\n",
       "    </tr>\n",
       "    <tr>\n",
       "      <th>2</th>\n",
       "      <td>1</td>\n",
       "      <td>1</td>\n",
       "      <td>1</td>\n",
       "      <td>4</td>\n",
       "      <td>1</td>\n",
       "      <td>0</td>\n",
       "      <td>3</td>\n",
       "      <td>1</td>\n",
       "      <td>1</td>\n",
       "      <td>3.0</td>\n",
       "    </tr>\n",
       "    <tr>\n",
       "      <th>3</th>\n",
       "      <td>1</td>\n",
       "      <td>3</td>\n",
       "      <td>1</td>\n",
       "      <td>3</td>\n",
       "      <td>0</td>\n",
       "      <td>0</td>\n",
       "      <td>1</td>\n",
       "      <td>0</td>\n",
       "      <td>0</td>\n",
       "      <td>4.0</td>\n",
       "    </tr>\n",
       "    <tr>\n",
       "      <th>4</th>\n",
       "      <td>1</td>\n",
       "      <td>1</td>\n",
       "      <td>1</td>\n",
       "      <td>3</td>\n",
       "      <td>1</td>\n",
       "      <td>0</td>\n",
       "      <td>3</td>\n",
       "      <td>0</td>\n",
       "      <td>1</td>\n",
       "      <td>3.0</td>\n",
       "    </tr>\n",
       "    <tr>\n",
       "      <th>5</th>\n",
       "      <td>0</td>\n",
       "      <td>3</td>\n",
       "      <td>0</td>\n",
       "      <td>3</td>\n",
       "      <td>0</td>\n",
       "      <td>0</td>\n",
       "      <td>1</td>\n",
       "      <td>0</td>\n",
       "      <td>0</td>\n",
       "      <td>1.0</td>\n",
       "    </tr>\n",
       "  </tbody>\n",
       "</table>\n",
       "</div>"
      ],
      "text/plain": [
       "             Survived  Pclass  Sex  Age  SibSp  Parch  Fare  Embarked  \\\n",
       "PassengerId                                                             \n",
       "1                   0       3    0    3      1      0     0         0   \n",
       "2                   1       1    1    4      1      0     3         1   \n",
       "3                   1       3    1    3      0      0     1         0   \n",
       "4                   1       1    1    3      1      0     3         0   \n",
       "5                   0       3    0    3      0      0     1         0   \n",
       "\n",
       "             Family_Size  Title  \n",
       "PassengerId                      \n",
       "1                      1    1.0  \n",
       "2                      1    3.0  \n",
       "3                      0    4.0  \n",
       "4                      1    3.0  \n",
       "5                      0    1.0  "
      ]
     },
     "execution_count": 5762,
     "metadata": {},
     "output_type": "execute_result"
    }
   ],
   "source": [
    "the_X.head()"
   ]
  },
  {
   "cell_type": "code",
   "execution_count": 5763,
   "metadata": {
    "collapsed": true
   },
   "outputs": [],
   "source": [
    "the_X = the_X.drop(\"Survived\", axis = 1)"
   ]
  },
  {
   "cell_type": "code",
   "execution_count": 5764,
   "metadata": {
    "collapsed": true
   },
   "outputs": [],
   "source": [
    "train_X , test_X , train_y , test_y = train_test_split( the_X , the_y , test_size = .25 )"
   ]
  },
  {
   "cell_type": "markdown",
   "metadata": {},
   "source": [
    "## Models"
   ]
  },
  {
   "cell_type": "markdown",
   "metadata": {},
   "source": [
    "### Logistic Regression"
   ]
  },
  {
   "cell_type": "code",
   "execution_count": 5765,
   "metadata": {
    "collapsed": true
   },
   "outputs": [],
   "source": [
    "logreg = LogisticRegression()"
   ]
  },
  {
   "cell_type": "code",
   "execution_count": 5766,
   "metadata": {},
   "outputs": [
    {
     "data": {
      "text/plain": [
       "LogisticRegression(C=1.0, class_weight=None, dual=False, fit_intercept=True,\n",
       "          intercept_scaling=1, max_iter=100, multi_class='ovr', n_jobs=1,\n",
       "          penalty='l2', random_state=None, solver='liblinear', tol=0.0001,\n",
       "          verbose=0, warm_start=False)"
      ]
     },
     "execution_count": 5766,
     "metadata": {},
     "output_type": "execute_result"
    }
   ],
   "source": [
    "logreg.fit(train_X, train_y)"
   ]
  },
  {
   "cell_type": "code",
   "execution_count": 5767,
   "metadata": {
    "collapsed": true
   },
   "outputs": [],
   "source": [
    "y_pred = logreg.predict(test_X)"
   ]
  },
  {
   "cell_type": "code",
   "execution_count": 5768,
   "metadata": {},
   "outputs": [
    {
     "data": {
      "text/plain": [
       "0.7847533632286996"
      ]
     },
     "execution_count": 5768,
     "metadata": {},
     "output_type": "execute_result"
    }
   ],
   "source": [
    "metrics.accuracy_score(test_y, y_pred)"
   ]
  },
  {
   "cell_type": "code",
   "execution_count": 5769,
   "metadata": {},
   "outputs": [
    {
     "name": "stdout",
     "output_type": "stream",
     "text": [
      "True: [0 0 0 0 0 0 1 0 1 0 0 1 1 1 1 0 0 0 0 0 1 0 0 1 1]\n",
      "Pred: [0 0 1 0 0 0 0 0 0 0 1 1 1 1 1 0 0 0 0 0 1 0 0 1 0]\n"
     ]
    }
   ],
   "source": [
    "print('True:', test_y.values[0:25])\n",
    "print('Pred:', y_pred[0:25])"
   ]
  },
  {
   "cell_type": "code",
   "execution_count": 5770,
   "metadata": {},
   "outputs": [
    {
     "name": "stdout",
     "output_type": "stream",
     "text": [
      "[[114  21]\n",
      " [ 27  61]]\n"
     ]
    }
   ],
   "source": [
    "print(metrics.confusion_matrix(test_y, y_pred))"
   ]
  },
  {
   "cell_type": "code",
   "execution_count": 5771,
   "metadata": {},
   "outputs": [],
   "source": [
    "score = cross_val_score(logreg, the_X, the_y, cv=10, scoring=\"accuracy\")"
   ]
  },
  {
   "cell_type": "code",
   "execution_count": 5772,
   "metadata": {},
   "outputs": [
    {
     "name": "stdout",
     "output_type": "stream",
     "text": [
      "0.78679917149\n"
     ]
    }
   ],
   "source": [
    "print(score.mean())"
   ]
  },
  {
   "cell_type": "markdown",
   "metadata": {},
   "source": [
    "### KNN"
   ]
  },
  {
   "cell_type": "code",
   "execution_count": 5773,
   "metadata": {
    "collapsed": true
   },
   "outputs": [],
   "source": [
    "knn_range = list(range(1,31))\n",
    "knn_score = []\n",
    "for k in knn_range:\n",
    "    knn = KNeighborsClassifier(n_neighbors = k)\n",
    "    score = cross_val_score(knn, the_X, the_y, cv=10, scoring=\"accuracy\")\n",
    "    knn_score.append(score.mean())\n",
    "    "
   ]
  },
  {
   "cell_type": "code",
   "execution_count": 5774,
   "metadata": {},
   "outputs": [
    {
     "data": {
      "text/plain": [
       "<matplotlib.text.Text at 0x15e4b6860>"
      ]
     },
     "execution_count": 5774,
     "metadata": {},
     "output_type": "execute_result"
    },
    {
     "data": {
      "image/png": "[encoded data removed]",
      "text/plain": [
       "<matplotlib.figure.Figure at 0x15e42cb38>"
      ]
     },
     "metadata": {},
     "output_type": "display_data"
    }
   ],
   "source": [
    "plt.plot(knn_range, knn_score)\n",
    "plt.xlabel('Value of K for KNN')\n",
    "plt.ylabel('Testing Accuracy')"
   ]
  },
  {
   "cell_type": "code",
   "execution_count": 5775,
   "metadata": {
    "scrolled": true
   },
   "outputs": [
    {
     "data": {
      "text/plain": [
       "[0.76447764158438303,\n",
       " 0.79920922710248554,\n",
       " 0.81375411417546251,\n",
       " 0.82160736579275917,\n",
       " 0.82268073998411084,\n",
       " 0.82713738508682311,\n",
       " 0.83278033140392682,\n",
       " 0.82824821246169544,\n",
       " 0.83163176710929521,\n",
       " 0.82822295993644313,\n",
       " 0.82827374872318704,\n",
       " 0.82151912382249459,\n",
       " 0.82382873680626489,\n",
       " 0.82155657700601525,\n",
       " 0.81819827488366814,\n",
       " 0.81483940528884347,\n",
       " 0.81708688003631824,\n",
       " 0.81371609351946428,\n",
       " 0.81598853705595287,\n",
       " 0.81150635569174889,\n",
       " 0.81488991033934854,\n",
       " 0.82268017251163328,\n",
       " 0.82265491998638063,\n",
       " 0.82156906140052199,\n",
       " 0.81930910225854048,\n",
       " 0.82153160821700144,\n",
       " 0.82490239473385552,\n",
       " 0.82042049710589038,\n",
       " 0.82264271932811273,\n",
       " 0.82264243559187378]"
      ]
     },
     "execution_count": 5775,
     "metadata": {},
     "output_type": "execute_result"
    }
   ],
   "source": [
    "knn_score"
   ]
  },
  {
   "cell_type": "code",
   "execution_count": 5776,
   "metadata": {},
   "outputs": [
    {
     "name": "stdout",
     "output_type": "stream",
     "text": [
      "0.831631767109\n"
     ]
    }
   ],
   "source": [
    "# 9 is the best\n",
    "knn = KNeighborsClassifier(n_neighbors=9)\n",
    "score = cross_val_score(knn, the_X, the_y, cv=10, scoring=\"accuracy\")\n",
    "print(score.mean())"
   ]
  },
  {
   "cell_type": "markdown",
   "metadata": {},
   "source": [
    "- KNN of 9 gives best score. Better than logistic regression"
   ]
  },
  {
   "cell_type": "code",
   "execution_count": 5777,
   "metadata": {},
   "outputs": [
    {
     "name": "stdout",
     "output_type": "stream",
     "text": [
      "<class 'pandas.core.frame.DataFrame'>\n",
      "Int64Index: 32 entries, 22 to 867\n",
      "Data columns (total 12 columns):\n",
      "Survived_x    32 non-null int64\n",
      "Survived_y    32 non-null int64\n",
      "Pclass        32 non-null int64\n",
      "Name          32 non-null object\n",
      "Sex           32 non-null object\n",
      "Age           28 non-null float64\n",
      "SibSp         32 non-null int64\n",
      "Parch         32 non-null int64\n",
      "Ticket        32 non-null object\n",
      "Fare          32 non-null float64\n",
      "Cabin         11 non-null object\n",
      "Embarked      32 non-null object\n",
      "dtypes: float64(2), int64(5), object(5)\n",
      "memory usage: 3.2+ KB\n"
     ]
    }
   ],
   "source": [
    "false_negative.info()"
   ]
  },
  {
   "cell_type": "code",
   "execution_count": 5778,
   "metadata": {},
   "outputs": [
    {
     "name": "stdout",
     "output_type": "stream",
     "text": [
      "<class 'pandas.core.frame.DataFrame'>\n",
      "Int64Index: 12 entries, 42 to 889\n",
      "Data columns (total 12 columns):\n",
      "Survived_x    12 non-null int64\n",
      "Survived_y    12 non-null int64\n",
      "Pclass        12 non-null int64\n",
      "Name          12 non-null object\n",
      "Sex           12 non-null object\n",
      "Age           7 non-null float64\n",
      "SibSp         12 non-null int64\n",
      "Parch         12 non-null int64\n",
      "Ticket        12 non-null object\n",
      "Fare          12 non-null float64\n",
      "Cabin         1 non-null object\n",
      "Embarked      12 non-null object\n",
      "dtypes: float64(2), int64(5), object(5)\n",
      "memory usage: 1.2+ KB\n"
     ]
    }
   ],
   "source": [
    "false_positive.info()"
   ]
  },
  {
   "cell_type": "code",
   "execution_count": 5779,
   "metadata": {
    "collapsed": true
   },
   "outputs": [],
   "source": [
    "param_grid= dict(n_neighbors=knn_range)"
   ]
  },
  {
   "cell_type": "code",
   "execution_count": 5780,
   "metadata": {
    "collapsed": true
   },
   "outputs": [],
   "source": [
    "grid = GridSearchCV(knn, param_grid, cv=10, scoring=\"accuracy\")"
   ]
  },
  {
   "cell_type": "code",
   "execution_count": 5781,
   "metadata": {},
   "outputs": [
    {
     "data": {
      "text/plain": [
       "GridSearchCV(cv=10, error_score='raise',\n",
       "       estimator=KNeighborsClassifier(algorithm='auto', leaf_size=30, metric='minkowski',\n",
       "           metric_params=None, n_jobs=1, n_neighbors=9, p=2,\n",
       "           weights='uniform'),\n",
       "       fit_params={}, iid=True, n_jobs=1,\n",
       "       param_grid={'n_neighbors': [1, 2, 3, 4, 5, 6, 7, 8, 9, 10, 11, 12, 13, 14, 15, 16, 17, 18, 19, 20, 21, 22, 23, 24, 25, 26, 27, 28, 29, 30]},\n",
       "       pre_dispatch='2*n_jobs', refit=True, return_train_score=True,\n",
       "       scoring='accuracy', verbose=0)"
      ]
     },
     "execution_count": 5781,
     "metadata": {},
     "output_type": "execute_result"
    }
   ],
   "source": [
    "grid.fit(the_X, the_y)"
   ]
  },
  {
   "cell_type": "code",
   "execution_count": 5782,
   "metadata": {},
   "outputs": [
    {
     "name": "stderr",
     "output_type": "stream",
     "text": [
      "/Users/ryanneal/anaconda/envs/python3/lib/python3.6/site-packages/sklearn/model_selection/_search.py:667: DeprecationWarning: The grid_scores_ attribute was deprecated in version 0.18 in favor of the more elaborate cv_results_ attribute. The grid_scores_ attribute will not be available from 0.20\n",
      "  DeprecationWarning)\n"
     ]
    },
    {
     "data": {
      "text/plain": [
       "[mean: 0.76431, std: 0.05413, params: {'n_neighbors': 1},\n",
       " mean: 0.79910, std: 0.04300, params: {'n_neighbors': 2},\n",
       " mean: 0.81369, std: 0.03824, params: {'n_neighbors': 3},\n",
       " mean: 0.82155, std: 0.03852, params: {'n_neighbors': 4},\n",
       " mean: 0.82267, std: 0.04101, params: {'n_neighbors': 5},\n",
       " mean: 0.82716, std: 0.03386, params: {'n_neighbors': 6},\n",
       " mean: 0.83277, std: 0.03560, params: {'n_neighbors': 7},\n",
       " mean: 0.82828, std: 0.03381, params: {'n_neighbors': 8},\n",
       " mean: 0.83165, std: 0.03762, params: {'n_neighbors': 9},\n",
       " mean: 0.82828, std: 0.04128, params: {'n_neighbors': 10},\n",
       " mean: 0.82828, std: 0.04344, params: {'n_neighbors': 11},\n",
       " mean: 0.82155, std: 0.04450, params: {'n_neighbors': 12},\n",
       " mean: 0.82379, std: 0.04200, params: {'n_neighbors': 13},\n",
       " mean: 0.82155, std: 0.03829, params: {'n_neighbors': 14},\n",
       " mean: 0.81818, std: 0.04197, params: {'n_neighbors': 15},\n",
       " mean: 0.81481, std: 0.03566, params: {'n_neighbors': 16},\n",
       " mean: 0.81706, std: 0.03695, params: {'n_neighbors': 17},\n",
       " mean: 0.81369, std: 0.03285, params: {'n_neighbors': 18},\n",
       " mean: 0.81594, std: 0.03272, params: {'n_neighbors': 19},\n",
       " mean: 0.81145, std: 0.03712, params: {'n_neighbors': 20},\n",
       " mean: 0.81481, std: 0.03546, params: {'n_neighbors': 21},\n",
       " mean: 0.82267, std: 0.03202, params: {'n_neighbors': 22},\n",
       " mean: 0.82267, std: 0.03010, params: {'n_neighbors': 23},\n",
       " mean: 0.82155, std: 0.03181, params: {'n_neighbors': 24},\n",
       " mean: 0.81930, std: 0.03026, params: {'n_neighbors': 25},\n",
       " mean: 0.82155, std: 0.03430, params: {'n_neighbors': 26},\n",
       " mean: 0.82492, std: 0.02675, params: {'n_neighbors': 27},\n",
       " mean: 0.82043, std: 0.03258, params: {'n_neighbors': 28},\n",
       " mean: 0.82267, std: 0.03019, params: {'n_neighbors': 29},\n",
       " mean: 0.82267, std: 0.03061, params: {'n_neighbors': 30}]"
      ]
     },
     "execution_count": 5782,
     "metadata": {},
     "output_type": "execute_result"
    }
   ],
   "source": [
    "# confirmation 9 is best with grid scores\n",
    "grid.grid_scores_"
   ]
  },
  {
   "cell_type": "code",
   "execution_count": 5783,
   "metadata": {},
   "outputs": [
    {
     "name": "stdout",
     "output_type": "stream",
     "text": [
      "0.832772166105\n"
     ]
    }
   ],
   "source": [
    "print(grid.best_score_)"
   ]
  },
  {
   "cell_type": "code",
   "execution_count": 5784,
   "metadata": {},
   "outputs": [
    {
     "name": "stdout",
     "output_type": "stream",
     "text": [
      "KNeighborsClassifier(algorithm='auto', leaf_size=30, metric='minkowski',\n",
      "           metric_params=None, n_jobs=1, n_neighbors=7, p=2,\n",
      "           weights='uniform')\n"
     ]
    }
   ],
   "source": [
    "print(grid.best_estimator_)"
   ]
  },
  {
   "cell_type": "code",
   "execution_count": 5785,
   "metadata": {},
   "outputs": [
    {
     "name": "stdout",
     "output_type": "stream",
     "text": [
      "{'n_neighbors': 7}\n"
     ]
    }
   ],
   "source": [
    "print(grid.best_params_)"
   ]
  },
  {
   "cell_type": "code",
   "execution_count": 5786,
   "metadata": {
    "collapsed": true
   },
   "outputs": [],
   "source": [
    "weight_options = ['uniform', 'distance']"
   ]
  },
  {
   "cell_type": "code",
   "execution_count": 5787,
   "metadata": {
    "collapsed": true
   },
   "outputs": [],
   "source": [
    "param_grid2 = dict(n_neighbors=knn_range, weights=weight_options)"
   ]
  },
  {
   "cell_type": "code",
   "execution_count": 5788,
   "metadata": {
    "collapsed": true
   },
   "outputs": [],
   "source": [
    "grid = GridSearchCV(knn, param_grid2, cv=10, scoring=\"accuracy\")"
   ]
  },
  {
   "cell_type": "code",
   "execution_count": 5789,
   "metadata": {},
   "outputs": [
    {
     "data": {
      "text/plain": [
       "GridSearchCV(cv=10, error_score='raise',\n",
       "       estimator=KNeighborsClassifier(algorithm='auto', leaf_size=30, metric='minkowski',\n",
       "           metric_params=None, n_jobs=1, n_neighbors=9, p=2,\n",
       "           weights='uniform'),\n",
       "       fit_params={}, iid=True, n_jobs=1,\n",
       "       param_grid={'n_neighbors': [1, 2, 3, 4, 5, 6, 7, 8, 9, 10, 11, 12, 13, 14, 15, 16, 17, 18, 19, 20, 21, 22, 23, 24, 25, 26, 27, 28, 29, 30], 'weights': ['uniform', 'distance']},\n",
       "       pre_dispatch='2*n_jobs', refit=True, return_train_score=True,\n",
       "       scoring='accuracy', verbose=0)"
      ]
     },
     "execution_count": 5789,
     "metadata": {},
     "output_type": "execute_result"
    }
   ],
   "source": [
    "grid.fit(the_X, the_y)"
   ]
  },
  {
   "cell_type": "code",
   "execution_count": 5790,
   "metadata": {},
   "outputs": [
    {
     "name": "stderr",
     "output_type": "stream",
     "text": [
      "/Users/ryanneal/anaconda/envs/python3/lib/python3.6/site-packages/sklearn/model_selection/_search.py:667: DeprecationWarning: The grid_scores_ attribute was deprecated in version 0.18 in favor of the more elaborate cv_results_ attribute. The grid_scores_ attribute will not be available from 0.20\n",
      "  DeprecationWarning)\n"
     ]
    },
    {
     "data": {
      "text/plain": [
       "[mean: 0.76431, std: 0.05413, params: {'n_neighbors': 1, 'weights': 'uniform'},\n",
       " mean: 0.76431, std: 0.05413, params: {'n_neighbors': 1, 'weights': 'distance'},\n",
       " mean: 0.79910, std: 0.04300, params: {'n_neighbors': 2, 'weights': 'uniform'},\n",
       " mean: 0.79125, std: 0.04681, params: {'n_neighbors': 2, 'weights': 'distance'},\n",
       " mean: 0.81369, std: 0.03824, params: {'n_neighbors': 3, 'weights': 'uniform'},\n",
       " mean: 0.80808, std: 0.03648, params: {'n_neighbors': 3, 'weights': 'distance'},\n",
       " mean: 0.82155, std: 0.03852, params: {'n_neighbors': 4, 'weights': 'uniform'},\n",
       " mean: 0.81481, std: 0.03064, params: {'n_neighbors': 4, 'weights': 'distance'},\n",
       " mean: 0.82267, std: 0.04101, params: {'n_neighbors': 5, 'weights': 'uniform'},\n",
       " mean: 0.81481, std: 0.03776, params: {'n_neighbors': 5, 'weights': 'distance'},\n",
       " mean: 0.82716, std: 0.03386, params: {'n_neighbors': 6, 'weights': 'uniform'},\n",
       " mean: 0.81930, std: 0.03581, params: {'n_neighbors': 6, 'weights': 'distance'},\n",
       " mean: 0.83277, std: 0.03560, params: {'n_neighbors': 7, 'weights': 'uniform'},\n",
       " mean: 0.82604, std: 0.04089, params: {'n_neighbors': 7, 'weights': 'distance'},\n",
       " mean: 0.82828, std: 0.03381, params: {'n_neighbors': 8, 'weights': 'uniform'},\n",
       " mean: 0.82716, std: 0.04002, params: {'n_neighbors': 8, 'weights': 'distance'},\n",
       " mean: 0.83165, std: 0.03762, params: {'n_neighbors': 9, 'weights': 'uniform'},\n",
       " mean: 0.82492, std: 0.04244, params: {'n_neighbors': 9, 'weights': 'distance'},\n",
       " mean: 0.82828, std: 0.04128, params: {'n_neighbors': 10, 'weights': 'uniform'},\n",
       " mean: 0.82492, std: 0.04218, params: {'n_neighbors': 10, 'weights': 'distance'},\n",
       " mean: 0.82828, std: 0.04344, params: {'n_neighbors': 11, 'weights': 'uniform'},\n",
       " mean: 0.82267, std: 0.04168, params: {'n_neighbors': 11, 'weights': 'distance'},\n",
       " mean: 0.82155, std: 0.04450, params: {'n_neighbors': 12, 'weights': 'uniform'},\n",
       " mean: 0.82492, std: 0.04363, params: {'n_neighbors': 12, 'weights': 'distance'},\n",
       " mean: 0.82379, std: 0.04200, params: {'n_neighbors': 13, 'weights': 'uniform'},\n",
       " mean: 0.82267, std: 0.03972, params: {'n_neighbors': 13, 'weights': 'distance'},\n",
       " mean: 0.82155, std: 0.03829, params: {'n_neighbors': 14, 'weights': 'uniform'},\n",
       " mean: 0.82043, std: 0.03983, params: {'n_neighbors': 14, 'weights': 'distance'},\n",
       " mean: 0.81818, std: 0.04197, params: {'n_neighbors': 15, 'weights': 'uniform'},\n",
       " mean: 0.81930, std: 0.04306, params: {'n_neighbors': 15, 'weights': 'distance'},\n",
       " mean: 0.81481, std: 0.03566, params: {'n_neighbors': 16, 'weights': 'uniform'},\n",
       " mean: 0.81706, std: 0.04305, params: {'n_neighbors': 16, 'weights': 'distance'},\n",
       " mean: 0.81706, std: 0.03695, params: {'n_neighbors': 17, 'weights': 'uniform'},\n",
       " mean: 0.81818, std: 0.04465, params: {'n_neighbors': 17, 'weights': 'distance'},\n",
       " mean: 0.81369, std: 0.03285, params: {'n_neighbors': 18, 'weights': 'uniform'},\n",
       " mean: 0.82043, std: 0.03726, params: {'n_neighbors': 18, 'weights': 'distance'},\n",
       " mean: 0.81594, std: 0.03272, params: {'n_neighbors': 19, 'weights': 'uniform'},\n",
       " mean: 0.81930, std: 0.04424, params: {'n_neighbors': 19, 'weights': 'distance'},\n",
       " mean: 0.81145, std: 0.03712, params: {'n_neighbors': 20, 'weights': 'uniform'},\n",
       " mean: 0.81930, std: 0.03842, params: {'n_neighbors': 20, 'weights': 'distance'},\n",
       " mean: 0.81481, std: 0.03546, params: {'n_neighbors': 21, 'weights': 'uniform'},\n",
       " mean: 0.82043, std: 0.04139, params: {'n_neighbors': 21, 'weights': 'distance'},\n",
       " mean: 0.82267, std: 0.03202, params: {'n_neighbors': 22, 'weights': 'uniform'},\n",
       " mean: 0.82267, std: 0.03814, params: {'n_neighbors': 22, 'weights': 'distance'},\n",
       " mean: 0.82267, std: 0.03010, params: {'n_neighbors': 23, 'weights': 'uniform'},\n",
       " mean: 0.82043, std: 0.04077, params: {'n_neighbors': 23, 'weights': 'distance'},\n",
       " mean: 0.82155, std: 0.03181, params: {'n_neighbors': 24, 'weights': 'uniform'},\n",
       " mean: 0.82155, std: 0.03965, params: {'n_neighbors': 24, 'weights': 'distance'},\n",
       " mean: 0.81930, std: 0.03026, params: {'n_neighbors': 25, 'weights': 'uniform'},\n",
       " mean: 0.82155, std: 0.03901, params: {'n_neighbors': 25, 'weights': 'distance'},\n",
       " mean: 0.82155, std: 0.03430, params: {'n_neighbors': 26, 'weights': 'uniform'},\n",
       " mean: 0.82155, std: 0.03901, params: {'n_neighbors': 26, 'weights': 'distance'},\n",
       " mean: 0.82492, std: 0.02675, params: {'n_neighbors': 27, 'weights': 'uniform'},\n",
       " mean: 0.82155, std: 0.03901, params: {'n_neighbors': 27, 'weights': 'distance'},\n",
       " mean: 0.82043, std: 0.03258, params: {'n_neighbors': 28, 'weights': 'uniform'},\n",
       " mean: 0.82267, std: 0.03950, params: {'n_neighbors': 28, 'weights': 'distance'},\n",
       " mean: 0.82267, std: 0.03019, params: {'n_neighbors': 29, 'weights': 'uniform'},\n",
       " mean: 0.82267, std: 0.03886, params: {'n_neighbors': 29, 'weights': 'distance'},\n",
       " mean: 0.82267, std: 0.03061, params: {'n_neighbors': 30, 'weights': 'uniform'},\n",
       " mean: 0.82155, std: 0.03837, params: {'n_neighbors': 30, 'weights': 'distance'}]"
      ]
     },
     "execution_count": 5790,
     "metadata": {},
     "output_type": "execute_result"
    }
   ],
   "source": [
    "grid.grid_scores_"
   ]
  },
  {
   "cell_type": "code",
   "execution_count": 5791,
   "metadata": {},
   "outputs": [
    {
     "name": "stdout",
     "output_type": "stream",
     "text": [
      "{'n_neighbors': 7, 'weights': 'uniform'}\n"
     ]
    }
   ],
   "source": [
    "print(grid.best_params_)"
   ]
  },
  {
   "cell_type": "markdown",
   "metadata": {},
   "source": [
    "- uniform is better"
   ]
  },
  {
   "cell_type": "code",
   "execution_count": 5792,
   "metadata": {},
   "outputs": [
    {
     "data": {
      "text/html": [
       "<div>\n",
       "<table border=\"1\" class=\"dataframe\">\n",
       "  <thead>\n",
       "    <tr style=\"text-align: right;\">\n",
       "      <th></th>\n",
       "      <th>Pclass</th>\n",
       "      <th>Sex</th>\n",
       "      <th>Age</th>\n",
       "      <th>SibSp</th>\n",
       "      <th>Parch</th>\n",
       "      <th>Fare</th>\n",
       "      <th>Embarked</th>\n",
       "      <th>Family_Size</th>\n",
       "      <th>Title</th>\n",
       "    </tr>\n",
       "    <tr>\n",
       "      <th>PassengerId</th>\n",
       "      <th></th>\n",
       "      <th></th>\n",
       "      <th></th>\n",
       "      <th></th>\n",
       "      <th></th>\n",
       "      <th></th>\n",
       "      <th></th>\n",
       "      <th></th>\n",
       "      <th></th>\n",
       "    </tr>\n",
       "  </thead>\n",
       "  <tbody>\n",
       "    <tr>\n",
       "      <th>1</th>\n",
       "      <td>3</td>\n",
       "      <td>0</td>\n",
       "      <td>3</td>\n",
       "      <td>1</td>\n",
       "      <td>0</td>\n",
       "      <td>0</td>\n",
       "      <td>0</td>\n",
       "      <td>1</td>\n",
       "      <td>1.0</td>\n",
       "    </tr>\n",
       "    <tr>\n",
       "      <th>2</th>\n",
       "      <td>1</td>\n",
       "      <td>1</td>\n",
       "      <td>4</td>\n",
       "      <td>1</td>\n",
       "      <td>0</td>\n",
       "      <td>3</td>\n",
       "      <td>1</td>\n",
       "      <td>1</td>\n",
       "      <td>3.0</td>\n",
       "    </tr>\n",
       "    <tr>\n",
       "      <th>3</th>\n",
       "      <td>3</td>\n",
       "      <td>1</td>\n",
       "      <td>3</td>\n",
       "      <td>0</td>\n",
       "      <td>0</td>\n",
       "      <td>1</td>\n",
       "      <td>0</td>\n",
       "      <td>0</td>\n",
       "      <td>4.0</td>\n",
       "    </tr>\n",
       "    <tr>\n",
       "      <th>4</th>\n",
       "      <td>1</td>\n",
       "      <td>1</td>\n",
       "      <td>3</td>\n",
       "      <td>1</td>\n",
       "      <td>0</td>\n",
       "      <td>3</td>\n",
       "      <td>0</td>\n",
       "      <td>1</td>\n",
       "      <td>3.0</td>\n",
       "    </tr>\n",
       "    <tr>\n",
       "      <th>5</th>\n",
       "      <td>3</td>\n",
       "      <td>0</td>\n",
       "      <td>3</td>\n",
       "      <td>0</td>\n",
       "      <td>0</td>\n",
       "      <td>1</td>\n",
       "      <td>0</td>\n",
       "      <td>0</td>\n",
       "      <td>1.0</td>\n",
       "    </tr>\n",
       "  </tbody>\n",
       "</table>\n",
       "</div>"
      ],
      "text/plain": [
       "             Pclass  Sex  Age  SibSp  Parch  Fare  Embarked  Family_Size  \\\n",
       "PassengerId                                                                \n",
       "1                 3    0    3      1      0     0         0            1   \n",
       "2                 1    1    4      1      0     3         1            1   \n",
       "3                 3    1    3      0      0     1         0            0   \n",
       "4                 1    1    3      1      0     3         0            1   \n",
       "5                 3    0    3      0      0     1         0            0   \n",
       "\n",
       "             Title  \n",
       "PassengerId         \n",
       "1              1.0  \n",
       "2              3.0  \n",
       "3              4.0  \n",
       "4              3.0  \n",
       "5              1.0  "
      ]
     },
     "execution_count": 5792,
     "metadata": {},
     "output_type": "execute_result"
    }
   ],
   "source": [
    "the_X.head()"
   ]
  },
  {
   "cell_type": "markdown",
   "metadata": {},
   "source": [
    "## Reevaluate"
   ]
  },
  {
   "cell_type": "code",
   "execution_count": null,
   "metadata": {
    "collapsed": true
   },
   "outputs": [],
   "source": [
    "knn = KNeighborsClassifier(n_neighbors = 7 )\n",
    "knn.fit(train_X, train_y)\n",
    "pred_y = knn.predict(test_X)"
   ]
  },
  {
   "cell_type": "code",
   "execution_count": null,
   "metadata": {},
   "outputs": [],
   "source": [
    "print('True:', test_y.values[0:25])\n",
    "print('Pred:', pred_y[0:25])"
   ]
  },
  {
   "cell_type": "code",
   "execution_count": null,
   "metadata": {
    "collapsed": true
   },
   "outputs": [],
   "source": [
    "frame1 = pd.DataFrame(test_y + pred_y)\n",
    "\n",
    "x = frame1[frame1.Survived == 1]\n",
    "\n",
    "new_frame = pd.merge(x, train, how='inner', on=None, left_on=None, right_on=None,\n",
    "         left_index=True, right_index=True, sort=True,\n",
    "         suffixes=('_x', '_y'), copy=True, indicator=False)\n",
    "\n",
    "false_negative = new_frame[new_frame.Survived_y == 1]\n",
    "\n",
    "false_positive = new_frame[new_frame.Survived_y == 0]"
   ]
  },
  {
   "cell_type": "code",
   "execution_count": null,
   "metadata": {},
   "outputs": [],
   "source": [
    "false_negative.info()"
   ]
  },
  {
   "cell_type": "code",
   "execution_count": null,
   "metadata": {},
   "outputs": [],
   "source": [
    "false_positive.info()"
   ]
  },
  {
   "cell_type": "code",
   "execution_count": null,
   "metadata": {},
   "outputs": [],
   "source": [
    "false_positive.describe()"
   ]
  },
  {
   "cell_type": "code",
   "execution_count": null,
   "metadata": {},
   "outputs": [],
   "source": [
    "false_negative.describe()"
   ]
  },
  {
   "cell_type": "code",
   "execution_count": null,
   "metadata": {},
   "outputs": [],
   "source": [
    "q = sns.heatmap(new_frame[[\"Survived_y\",\"SibSp\",\"Parch\",\"Age\",\"Fare\", \"Pclass\"]].corr(),annot=True, fmt = \".2f\", cmap = \"coolwarm\")"
   ]
  },
  {
   "cell_type": "code",
   "execution_count": null,
   "metadata": {},
   "outputs": [],
   "source": [
    "g = sns.factorplot(x=\"SibSp\",y=\"Survived_y\",data=new_frame,kind=\"bar\", size = 6 , \n",
    "palette = \"muted\")\n",
    "g.despine(left=True)\n",
    "g = g.set_ylabels(\"false probability\")"
   ]
  },
  {
   "cell_type": "code",
   "execution_count": null,
   "metadata": {},
   "outputs": [],
   "source": [
    "new_frame.SibSp"
   ]
  },
  {
   "cell_type": "code",
   "execution_count": null,
   "metadata": {},
   "outputs": [],
   "source": [
    "train.SibSp"
   ]
  },
  {
   "cell_type": "code",
   "execution_count": null,
   "metadata": {},
   "outputs": [],
   "source": [
    "new_frame.SibSp.value_counts()"
   ]
  },
  {
   "cell_type": "code",
   "execution_count": null,
   "metadata": {},
   "outputs": [],
   "source": [
    "train.SibSp.value_counts()"
   ]
  },
  {
   "cell_type": "code",
   "execution_count": null,
   "metadata": {},
   "outputs": [],
   "source": [
    "new_frame.Fare.value_counts(sort=\"true\")"
   ]
  },
  {
   "cell_type": "code",
   "execution_count": null,
   "metadata": {},
   "outputs": [],
   "source": [
    "g = sns.FacetGrid(new_frame, col='Survived_y')\n",
    "g = g.map(sns.distplot, \"Age\")"
   ]
  },
  {
   "cell_type": "code",
   "execution_count": null,
   "metadata": {},
   "outputs": [],
   "source": [
    "new_frame"
   ]
  },
  {
   "cell_type": "code",
   "execution_count": null,
   "metadata": {},
   "outputs": [],
   "source": [
    "train.loc[80]"
   ]
  },
  {
   "cell_type": "code",
   "execution_count": null,
   "metadata": {},
   "outputs": [],
   "source": [
    "g = sns.factorplot(x=\"Sex\",y=\"Survived_y\",data=new_frame,kind=\"bar\", size = 6 , \n",
    "palette = \"muted\")\n",
    "g.despine(left=True)\n",
    "g = g.set_ylabels(\"false probability\")"
   ]
  },
  {
   "cell_type": "code",
   "execution_count": null,
   "metadata": {},
   "outputs": [],
   "source": [
    "new_frame.Sex.value_counts()"
   ]
  },
  {
   "cell_type": "code",
   "execution_count": null,
   "metadata": {},
   "outputs": [],
   "source": [
    "train.Sex.value_counts()"
   ]
  },
  {
   "cell_type": "code",
   "execution_count": null,
   "metadata": {},
   "outputs": [],
   "source": [
    "train.Age.isnull().sum()/len(train)"
   ]
  },
  {
   "cell_type": "code",
   "execution_count": null,
   "metadata": {},
   "outputs": [],
   "source": [
    "new_frame.Age.isnull().sum()/len(new_frame)"
   ]
  },
  {
   "cell_type": "code",
   "execution_count": null,
   "metadata": {},
   "outputs": [],
   "source": [
    "g = sns.factorplot(x=\"Parch\",y=\"Survived_y\",data=new_frame,kind=\"bar\", size = 6 , \n",
    "palette = \"muted\")\n",
    "g.despine(left=True)\n",
    "g = g.set_ylabels(\"false probability\")"
   ]
  },
  {
   "cell_type": "code",
   "execution_count": null,
   "metadata": {},
   "outputs": [],
   "source": [
    "new_frame.Parch.value_counts()"
   ]
  },
  {
   "cell_type": "code",
   "execution_count": null,
   "metadata": {},
   "outputs": [],
   "source": [
    "train.Parch.value_counts()"
   ]
  },
  {
   "cell_type": "code",
   "execution_count": null,
   "metadata": {},
   "outputs": [],
   "source": [
    "new_frame.SibSp.value_counts()"
   ]
  },
  {
   "cell_type": "code",
   "execution_count": null,
   "metadata": {},
   "outputs": [],
   "source": [
    "train.SibSp.value_counts()"
   ]
  },
  {
   "cell_type": "code",
   "execution_count": null,
   "metadata": {
    "collapsed": true
   },
   "outputs": [],
   "source": []
  }
 ],
 "metadata": {
  "kernelspec": {
   "display_name": "Python 3",
   "language": "python",
   "name": "python3"
  },
  "language_info": {
   "codemirror_mode": {
    "name": "ipython",
    "version": 3
   },
   "file_extension": ".py",
   "mimetype": "text/x-python",
   "name": "python",
   "nbconvert_exporter": "python",
   "pygments_lexer": "ipython3",
   "version": "3.6.0"
  }
 },
 "nbformat": 4,
 "nbformat_minor": 2
}
